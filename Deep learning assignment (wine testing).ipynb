{
 "cells": [
  {
   "cell_type": "code",
   "execution_count": 206,
   "id": "9d0e5d0b",
   "metadata": {},
   "outputs": [],
   "source": [
    "import numpy as np \n",
    "import pandas as pd\n",
    "import tensorflow as tf\n",
    "from tensorflow import keras\n",
    "from tensorflow.keras import layers \n",
    "from tensorflow.keras.models import Sequential\n",
    "from tensorflow.keras.layers import Dense, Activation\n",
    "from matplotlib import pyplot as plt\n",
    "from sklearn.model_selection import train_test_split\n",
    "from sklearn.preprocessing import StandardScaler\n",
    "from sklearn.metrics import confusion_matrix, precision_score,classification_report, recall_score, f1_score, cohen_kappa_score\n",
    "from tensorflow.keras import backend as K\n",
    "from tensorflow.keras import mixed_precision\n",
    "import seaborn as sns\n",
    "%matplotlib inline"
   ]
  },
  {
   "cell_type": "markdown",
   "id": "b693ccbe",
   "metadata": {},
   "source": [
    "### 1- Understanding The Data"
   ]
  },
  {
   "cell_type": "markdown",
   "id": "1ad32363",
   "metadata": {},
   "source": [
    "-  Fixed acidity: acids are major wine properties and contribute greatly to the wine’s taste. Usually, the total acidity is divided into two groups:the volatile acids and the nonvolatile or fixed acids. Among the fixed acids that you can find in wines are the following: tartaric, malic, citric, and succinic. This variable is expressed in g(tartaricacid)/dm3 in the data sets.\n",
    "\n",
    "-  Volatile acidity: the volatile acidity is basically the process of wine turning into vinegar. In the U.S, the legal limits of Volatile Acidity are 1.2 g/L for red table wine and 1.1 g/L for white table wine. In these data sets, the volatile acidity is expressed in g(aceticacid)/dm3.\n",
    "\n",
    "- Citric acid is one of the fixed acids that you’ll find in wines. It’s expressed in g/dm3 in the two data sets.\n",
    "\n",
    "- Residual sugar typically refers to the sugar remaining after fermentation stops, or is stopped. It’s expressed in g/dm3 in the red and white data.\n",
    "\n",
    "- Chlorides can be a significant contributor to saltiness in wine. Here, you’ll see that it’s expressed in g(sodiumchloride)/dm3.\n",
    "\n",
    "- Free sulfur dioxide: the part of the sulfur dioxide that is added to a wine and that is lost into it is said to be bound, while the active part is said to be free. The winemaker will always try to get the highest proportion of free sulfur to bind. This variable is expressed in mg/dm3 in the data.\n",
    "\n",
    "- Total sulfur dioxide is the sum of the bound and the free sulfur dioxide (SO2). Here, it’s expressed in mg/dm3. There are legal limits for sulfur levels in wines: in the EU, red wines can only have 160mg/L, while white and rose wines can have about 210mg/L. Sweet wines are allowed to have 400mg/L. For the US, the legal limits are set at 350mg/L, and for Australia, this is 250mg/L.\n",
    "\n",
    "- Density is generally used as a measure of the conversion of sugar to alcohol. Here, it’s expressed in g/cm3.\n",
    "\n",
    "- pH or the potential of hydrogen is a numeric scale to specify the acidity or basicity the wine. As you might know, solutions with a pH less than 7 are acidic, while solutions with a pH greater than 7 are basic. With a pH of 7, pure water is neutral. Most wines have a pH between 2.9 and 3.9 and are therefore acidic.\n",
    "\n",
    "- Sulfates are to wine as gluten is to food. You might already know sulfites from the headaches that they can cause. They are a regular part of the winemaking around the world and are considered necessary. In this case, they are expressed in g(potassiumsulphate)/dm3.\n",
    "\n",
    "- Alcohol: wine is an alcoholic beverage, and as you know, the percentage of alcohol can vary from wine to wine. It shouldn’t be surprised that this variable is included in the data sets, where it’s expressed in % vol.\n",
    "\n",
    "- Quality: wine experts graded the wine quality between 0 (very bad) and 10 (very excellent). The eventual number is the median of at least three evaluations made by those same wine experts.\n"
   ]
  },
  {
   "cell_type": "markdown",
   "id": "752f4169",
   "metadata": {},
   "source": [
    "### Loading The Data"
   ]
  },
  {
   "cell_type": "code",
   "execution_count": 123,
   "id": "c188c0a0",
   "metadata": {},
   "outputs": [],
   "source": [
    "df=pd.read_csv('https://raw.githubusercontent.com/becodeorg/GNT-Arai-2.31/master/content/additional_resources/datasets/Wine%20Quality/wine.csv?token=AUDYZYYNMMIDYPJJ34NKHN3BICUH4')"
   ]
  },
  {
   "cell_type": "markdown",
   "id": "f600b874",
   "metadata": {},
   "source": [
    "### 2- Data Exploration"
   ]
  },
  {
   "cell_type": "markdown",
   "id": "eff83245",
   "metadata": {},
   "source": [
    "- Are the data types correct?\n",
    "- Did all the rows come through? \n",
    "- Are there any null values that you should take into account when you’re cleaning up the data?\n",
    "- You might also want to check out your data with more than just info():"
   ]
  },
  {
   "cell_type": "code",
   "execution_count": 124,
   "id": "69bd5d18",
   "metadata": {},
   "outputs": [
    {
     "data": {
      "text/html": [
       "<div>\n",
       "<style scoped>\n",
       "    .dataframe tbody tr th:only-of-type {\n",
       "        vertical-align: middle;\n",
       "    }\n",
       "\n",
       "    .dataframe tbody tr th {\n",
       "        vertical-align: top;\n",
       "    }\n",
       "\n",
       "    .dataframe thead th {\n",
       "        text-align: right;\n",
       "    }\n",
       "</style>\n",
       "<table border=\"1\" class=\"dataframe\">\n",
       "  <thead>\n",
       "    <tr style=\"text-align: right;\">\n",
       "      <th></th>\n",
       "      <th>index</th>\n",
       "      <th>fixed acidity</th>\n",
       "      <th>volatile acidity</th>\n",
       "      <th>citric acid</th>\n",
       "      <th>residual sugar</th>\n",
       "      <th>chlorides</th>\n",
       "      <th>free sulfur dioxide</th>\n",
       "      <th>total sulfur dioxide</th>\n",
       "      <th>density</th>\n",
       "      <th>pH</th>\n",
       "      <th>sulphates</th>\n",
       "      <th>alcohol</th>\n",
       "      <th>quality</th>\n",
       "    </tr>\n",
       "  </thead>\n",
       "  <tbody>\n",
       "    <tr>\n",
       "      <th>0</th>\n",
       "      <td>0</td>\n",
       "      <td>7.4</td>\n",
       "      <td>0.70</td>\n",
       "      <td>0.00</td>\n",
       "      <td>1.9</td>\n",
       "      <td>0.076</td>\n",
       "      <td>11.0</td>\n",
       "      <td>34.0</td>\n",
       "      <td>0.9978</td>\n",
       "      <td>3.51</td>\n",
       "      <td>0.56</td>\n",
       "      <td>9.4</td>\n",
       "      <td>5</td>\n",
       "    </tr>\n",
       "    <tr>\n",
       "      <th>1</th>\n",
       "      <td>1</td>\n",
       "      <td>7.8</td>\n",
       "      <td>0.88</td>\n",
       "      <td>0.00</td>\n",
       "      <td>2.6</td>\n",
       "      <td>0.098</td>\n",
       "      <td>25.0</td>\n",
       "      <td>67.0</td>\n",
       "      <td>0.9968</td>\n",
       "      <td>3.20</td>\n",
       "      <td>0.68</td>\n",
       "      <td>9.8</td>\n",
       "      <td>5</td>\n",
       "    </tr>\n",
       "    <tr>\n",
       "      <th>2</th>\n",
       "      <td>2</td>\n",
       "      <td>7.8</td>\n",
       "      <td>0.76</td>\n",
       "      <td>0.04</td>\n",
       "      <td>2.3</td>\n",
       "      <td>0.092</td>\n",
       "      <td>15.0</td>\n",
       "      <td>54.0</td>\n",
       "      <td>0.9970</td>\n",
       "      <td>3.26</td>\n",
       "      <td>0.65</td>\n",
       "      <td>9.8</td>\n",
       "      <td>5</td>\n",
       "    </tr>\n",
       "    <tr>\n",
       "      <th>3</th>\n",
       "      <td>3</td>\n",
       "      <td>11.2</td>\n",
       "      <td>0.28</td>\n",
       "      <td>0.56</td>\n",
       "      <td>1.9</td>\n",
       "      <td>0.075</td>\n",
       "      <td>17.0</td>\n",
       "      <td>60.0</td>\n",
       "      <td>0.9980</td>\n",
       "      <td>3.16</td>\n",
       "      <td>0.58</td>\n",
       "      <td>9.8</td>\n",
       "      <td>6</td>\n",
       "    </tr>\n",
       "    <tr>\n",
       "      <th>4</th>\n",
       "      <td>4</td>\n",
       "      <td>7.4</td>\n",
       "      <td>0.70</td>\n",
       "      <td>0.00</td>\n",
       "      <td>1.9</td>\n",
       "      <td>0.076</td>\n",
       "      <td>11.0</td>\n",
       "      <td>34.0</td>\n",
       "      <td>0.9978</td>\n",
       "      <td>3.51</td>\n",
       "      <td>0.56</td>\n",
       "      <td>9.4</td>\n",
       "      <td>5</td>\n",
       "    </tr>\n",
       "  </tbody>\n",
       "</table>\n",
       "</div>"
      ],
      "text/plain": [
       "   index  fixed acidity  volatile acidity  citric acid  residual sugar  \\\n",
       "0      0            7.4              0.70         0.00             1.9   \n",
       "1      1            7.8              0.88         0.00             2.6   \n",
       "2      2            7.8              0.76         0.04             2.3   \n",
       "3      3           11.2              0.28         0.56             1.9   \n",
       "4      4            7.4              0.70         0.00             1.9   \n",
       "\n",
       "   chlorides  free sulfur dioxide  total sulfur dioxide  density    pH  \\\n",
       "0      0.076                 11.0                  34.0   0.9978  3.51   \n",
       "1      0.098                 25.0                  67.0   0.9968  3.20   \n",
       "2      0.092                 15.0                  54.0   0.9970  3.26   \n",
       "3      0.075                 17.0                  60.0   0.9980  3.16   \n",
       "4      0.076                 11.0                  34.0   0.9978  3.51   \n",
       "\n",
       "   sulphates  alcohol  quality  \n",
       "0       0.56      9.4        5  \n",
       "1       0.68      9.8        5  \n",
       "2       0.65      9.8        5  \n",
       "3       0.58      9.8        6  \n",
       "4       0.56      9.4        5  "
      ]
     },
     "execution_count": 124,
     "metadata": {},
     "output_type": "execute_result"
    }
   ],
   "source": [
    "df.head()"
   ]
  },
  {
   "cell_type": "code",
   "execution_count": 125,
   "id": "f23bfba1",
   "metadata": {},
   "outputs": [],
   "source": [
    "#df.tail()"
   ]
  },
  {
   "cell_type": "code",
   "execution_count": 126,
   "id": "e835c1d7",
   "metadata": {},
   "outputs": [],
   "source": [
    "#df.sample()"
   ]
  },
  {
   "cell_type": "code",
   "execution_count": 127,
   "id": "afa9eeda",
   "metadata": {},
   "outputs": [
    {
     "data": {
      "text/plain": [
       "(6497, 13)"
      ]
     },
     "execution_count": 127,
     "metadata": {},
     "output_type": "execute_result"
    }
   ],
   "source": [
    "df.shape"
   ]
  },
  {
   "cell_type": "markdown",
   "id": "b35fa6ee",
   "metadata": {},
   "source": [
    "#### Note that \n",
    "df.describe() offers some summary statistics about the data that can help to assess the data quality. You see that some of the variables have a lot of difference in their min and max values. This is something that you’ll deal with later, but at this point, it’s just imperative to be aware of this."
   ]
  },
  {
   "cell_type": "code",
   "execution_count": 128,
   "id": "171bdb43",
   "metadata": {
    "scrolled": true
   },
   "outputs": [
    {
     "data": {
      "text/html": [
       "<div>\n",
       "<style scoped>\n",
       "    .dataframe tbody tr th:only-of-type {\n",
       "        vertical-align: middle;\n",
       "    }\n",
       "\n",
       "    .dataframe tbody tr th {\n",
       "        vertical-align: top;\n",
       "    }\n",
       "\n",
       "    .dataframe thead th {\n",
       "        text-align: right;\n",
       "    }\n",
       "</style>\n",
       "<table border=\"1\" class=\"dataframe\">\n",
       "  <thead>\n",
       "    <tr style=\"text-align: right;\">\n",
       "      <th></th>\n",
       "      <th>index</th>\n",
       "      <th>fixed acidity</th>\n",
       "      <th>volatile acidity</th>\n",
       "      <th>citric acid</th>\n",
       "      <th>residual sugar</th>\n",
       "      <th>chlorides</th>\n",
       "      <th>free sulfur dioxide</th>\n",
       "      <th>total sulfur dioxide</th>\n",
       "      <th>density</th>\n",
       "      <th>pH</th>\n",
       "      <th>sulphates</th>\n",
       "      <th>alcohol</th>\n",
       "      <th>quality</th>\n",
       "    </tr>\n",
       "  </thead>\n",
       "  <tbody>\n",
       "    <tr>\n",
       "      <th>count</th>\n",
       "      <td>6497.000000</td>\n",
       "      <td>6497.000000</td>\n",
       "      <td>6497.000000</td>\n",
       "      <td>6497.000000</td>\n",
       "      <td>6497.000000</td>\n",
       "      <td>6497.000000</td>\n",
       "      <td>6497.000000</td>\n",
       "      <td>6497.000000</td>\n",
       "      <td>6497.000000</td>\n",
       "      <td>6497.000000</td>\n",
       "      <td>6497.000000</td>\n",
       "      <td>6497.000000</td>\n",
       "      <td>6497.000000</td>\n",
       "    </tr>\n",
       "    <tr>\n",
       "      <th>mean</th>\n",
       "      <td>2042.535632</td>\n",
       "      <td>7.215307</td>\n",
       "      <td>0.339666</td>\n",
       "      <td>0.318633</td>\n",
       "      <td>5.443235</td>\n",
       "      <td>0.056034</td>\n",
       "      <td>30.525319</td>\n",
       "      <td>115.744574</td>\n",
       "      <td>0.994697</td>\n",
       "      <td>3.218501</td>\n",
       "      <td>0.531268</td>\n",
       "      <td>10.491801</td>\n",
       "      <td>5.818378</td>\n",
       "    </tr>\n",
       "    <tr>\n",
       "      <th>std</th>\n",
       "      <td>1436.926393</td>\n",
       "      <td>1.296434</td>\n",
       "      <td>0.164636</td>\n",
       "      <td>0.145318</td>\n",
       "      <td>4.757804</td>\n",
       "      <td>0.035034</td>\n",
       "      <td>17.749400</td>\n",
       "      <td>56.521855</td>\n",
       "      <td>0.002999</td>\n",
       "      <td>0.160787</td>\n",
       "      <td>0.148806</td>\n",
       "      <td>1.192712</td>\n",
       "      <td>0.873255</td>\n",
       "    </tr>\n",
       "    <tr>\n",
       "      <th>min</th>\n",
       "      <td>0.000000</td>\n",
       "      <td>3.800000</td>\n",
       "      <td>0.080000</td>\n",
       "      <td>0.000000</td>\n",
       "      <td>0.600000</td>\n",
       "      <td>0.009000</td>\n",
       "      <td>1.000000</td>\n",
       "      <td>6.000000</td>\n",
       "      <td>0.987110</td>\n",
       "      <td>2.720000</td>\n",
       "      <td>0.220000</td>\n",
       "      <td>8.000000</td>\n",
       "      <td>3.000000</td>\n",
       "    </tr>\n",
       "    <tr>\n",
       "      <th>25%</th>\n",
       "      <td>812.000000</td>\n",
       "      <td>6.400000</td>\n",
       "      <td>0.230000</td>\n",
       "      <td>0.250000</td>\n",
       "      <td>1.800000</td>\n",
       "      <td>0.038000</td>\n",
       "      <td>17.000000</td>\n",
       "      <td>77.000000</td>\n",
       "      <td>0.992340</td>\n",
       "      <td>3.110000</td>\n",
       "      <td>0.430000</td>\n",
       "      <td>9.500000</td>\n",
       "      <td>5.000000</td>\n",
       "    </tr>\n",
       "    <tr>\n",
       "      <th>50%</th>\n",
       "      <td>1649.000000</td>\n",
       "      <td>7.000000</td>\n",
       "      <td>0.290000</td>\n",
       "      <td>0.310000</td>\n",
       "      <td>3.000000</td>\n",
       "      <td>0.047000</td>\n",
       "      <td>29.000000</td>\n",
       "      <td>118.000000</td>\n",
       "      <td>0.994890</td>\n",
       "      <td>3.210000</td>\n",
       "      <td>0.510000</td>\n",
       "      <td>10.300000</td>\n",
       "      <td>6.000000</td>\n",
       "    </tr>\n",
       "    <tr>\n",
       "      <th>75%</th>\n",
       "      <td>3273.000000</td>\n",
       "      <td>7.700000</td>\n",
       "      <td>0.400000</td>\n",
       "      <td>0.390000</td>\n",
       "      <td>8.100000</td>\n",
       "      <td>0.065000</td>\n",
       "      <td>41.000000</td>\n",
       "      <td>156.000000</td>\n",
       "      <td>0.996990</td>\n",
       "      <td>3.320000</td>\n",
       "      <td>0.600000</td>\n",
       "      <td>11.300000</td>\n",
       "      <td>6.000000</td>\n",
       "    </tr>\n",
       "    <tr>\n",
       "      <th>max</th>\n",
       "      <td>4897.000000</td>\n",
       "      <td>15.900000</td>\n",
       "      <td>1.580000</td>\n",
       "      <td>1.660000</td>\n",
       "      <td>65.800000</td>\n",
       "      <td>0.611000</td>\n",
       "      <td>289.000000</td>\n",
       "      <td>440.000000</td>\n",
       "      <td>1.038980</td>\n",
       "      <td>4.010000</td>\n",
       "      <td>2.000000</td>\n",
       "      <td>14.900000</td>\n",
       "      <td>9.000000</td>\n",
       "    </tr>\n",
       "  </tbody>\n",
       "</table>\n",
       "</div>"
      ],
      "text/plain": [
       "             index  fixed acidity  volatile acidity  citric acid  \\\n",
       "count  6497.000000    6497.000000       6497.000000  6497.000000   \n",
       "mean   2042.535632       7.215307          0.339666     0.318633   \n",
       "std    1436.926393       1.296434          0.164636     0.145318   \n",
       "min       0.000000       3.800000          0.080000     0.000000   \n",
       "25%     812.000000       6.400000          0.230000     0.250000   \n",
       "50%    1649.000000       7.000000          0.290000     0.310000   \n",
       "75%    3273.000000       7.700000          0.400000     0.390000   \n",
       "max    4897.000000      15.900000          1.580000     1.660000   \n",
       "\n",
       "       residual sugar    chlorides  free sulfur dioxide  total sulfur dioxide  \\\n",
       "count     6497.000000  6497.000000          6497.000000           6497.000000   \n",
       "mean         5.443235     0.056034            30.525319            115.744574   \n",
       "std          4.757804     0.035034            17.749400             56.521855   \n",
       "min          0.600000     0.009000             1.000000              6.000000   \n",
       "25%          1.800000     0.038000            17.000000             77.000000   \n",
       "50%          3.000000     0.047000            29.000000            118.000000   \n",
       "75%          8.100000     0.065000            41.000000            156.000000   \n",
       "max         65.800000     0.611000           289.000000            440.000000   \n",
       "\n",
       "           density           pH    sulphates      alcohol      quality  \n",
       "count  6497.000000  6497.000000  6497.000000  6497.000000  6497.000000  \n",
       "mean      0.994697     3.218501     0.531268    10.491801     5.818378  \n",
       "std       0.002999     0.160787     0.148806     1.192712     0.873255  \n",
       "min       0.987110     2.720000     0.220000     8.000000     3.000000  \n",
       "25%       0.992340     3.110000     0.430000     9.500000     5.000000  \n",
       "50%       0.994890     3.210000     0.510000    10.300000     6.000000  \n",
       "75%       0.996990     3.320000     0.600000    11.300000     6.000000  \n",
       "max       1.038980     4.010000     2.000000    14.900000     9.000000  "
      ]
     },
     "execution_count": 128,
     "metadata": {},
     "output_type": "execute_result"
    }
   ],
   "source": [
    "df.describe()"
   ]
  },
  {
   "cell_type": "markdown",
   "id": "ab66f928",
   "metadata": {},
   "source": [
    "##### info and isnull()"
   ]
  },
  {
   "cell_type": "code",
   "execution_count": 129,
   "id": "b625fce7",
   "metadata": {},
   "outputs": [
    {
     "name": "stdout",
     "output_type": "stream",
     "text": [
      "<class 'pandas.core.frame.DataFrame'>\n",
      "RangeIndex: 6497 entries, 0 to 6496\n",
      "Data columns (total 13 columns):\n",
      " #   Column                Non-Null Count  Dtype  \n",
      "---  ------                --------------  -----  \n",
      " 0   index                 6497 non-null   int64  \n",
      " 1   fixed acidity         6497 non-null   float64\n",
      " 2   volatile acidity      6497 non-null   float64\n",
      " 3   citric acid           6497 non-null   float64\n",
      " 4   residual sugar        6497 non-null   float64\n",
      " 5   chlorides             6497 non-null   float64\n",
      " 6   free sulfur dioxide   6497 non-null   float64\n",
      " 7   total sulfur dioxide  6497 non-null   float64\n",
      " 8   density               6497 non-null   float64\n",
      " 9   pH                    6497 non-null   float64\n",
      " 10  sulphates             6497 non-null   float64\n",
      " 11  alcohol               6497 non-null   float64\n",
      " 12  quality               6497 non-null   int64  \n",
      "dtypes: float64(11), int64(2)\n",
      "memory usage: 660.0 KB\n"
     ]
    }
   ],
   "source": [
    "df.info()"
   ]
  },
  {
   "cell_type": "code",
   "execution_count": 130,
   "id": "f6f2b419",
   "metadata": {},
   "outputs": [
    {
     "data": {
      "text/plain": [
       "['index',\n",
       " 'fixed acidity',\n",
       " 'volatile acidity',\n",
       " 'citric acid',\n",
       " 'residual sugar',\n",
       " 'chlorides',\n",
       " 'free sulfur dioxide',\n",
       " 'total sulfur dioxide',\n",
       " 'density',\n",
       " 'pH',\n",
       " 'sulphates',\n",
       " 'alcohol',\n",
       " 'quality']"
      ]
     },
     "execution_count": 130,
     "metadata": {},
     "output_type": "execute_result"
    }
   ],
   "source": [
    "df.columns.tolist()"
   ]
  },
  {
   "cell_type": "markdown",
   "id": "9e177404",
   "metadata": {},
   "source": [
    "### 3- Visualizing The Data"
   ]
  },
  {
   "cell_type": "code",
   "execution_count": 131,
   "id": "176ea548",
   "metadata": {},
   "outputs": [],
   "source": [
    "# plt.hist(df.alcohol, 10, facecolor='red', alpha=0.5)\n",
    "\n",
    "# fig.subplots_adjust(left=0, right=1, bottom=0, top=0.5, hspace=0.05, wspace=1)\n",
    "# ax[0].set_ylim([0, 2000])\n",
    "# ax[0].set_xlabel(\"Alcohol in % Vol\")\n",
    "# ax[0].set_ylabel(\"Frequency\")\n",
    "\n",
    "# hist.title(\"Distribution of Alcohol in % Vol\")\n",
    "\n",
    "# plt.show()"
   ]
  },
  {
   "cell_type": "code",
   "execution_count": 132,
   "id": "4c7e42e6",
   "metadata": {},
   "outputs": [],
   "source": [
    "#print(np.histogram(df.alcohol, bins=[7,8,9,10,11,12,13,14,15]))"
   ]
  },
  {
   "cell_type": "code",
   "execution_count": 133,
   "id": "81e66045",
   "metadata": {},
   "outputs": [
    {
     "data": {
      "text/plain": [
       "<AxesSubplot:>"
      ]
     },
     "execution_count": 133,
     "metadata": {},
     "output_type": "execute_result"
    },
    {
     "data": {
      "image/png": "[encoded data removed]",
      "text/plain": [
       "<Figure size 432x288 with 2 Axes>"
      ]
     },
     "metadata": {
      "needs_background": "light"
     },
     "output_type": "display_data"
    }
   ],
   "source": [
    "corr = df.corr()\n",
    "sns.heatmap(corr, \n",
    "            xticklabels=corr.columns.values,\n",
    "            yticklabels=corr.columns.values)"
   ]
  },
  {
   "cell_type": "code",
   "execution_count": 134,
   "id": "ade42269",
   "metadata": {},
   "outputs": [],
   "source": [
    "# split into input (X) and output (y) variables\n",
    "X = df.drop(columns=['quality', 'index'], axis=1)\n",
    "y = df['quality']\n",
    "\n"
   ]
  },
  {
   "cell_type": "code",
   "execution_count": 135,
   "id": "19d63988",
   "metadata": {},
   "outputs": [],
   "source": [
    "good_wine=[7,8,9]\n",
    "bad_wine=[3,4,5,6]"
   ]
  },
  {
   "cell_type": "code",
   "execution_count": 136,
   "id": "e8cec943",
   "metadata": {},
   "outputs": [],
   "source": [
    "y=y.replace(to_replace=good_wine, value=1)\n",
    "y=y.replace(to_replace=bad_wine, value=0)"
   ]
  },
  {
   "cell_type": "code",
   "execution_count": 137,
   "id": "e40d7686",
   "metadata": {},
   "outputs": [
    {
     "data": {
      "text/plain": [
       "0    5220\n",
       "1    1277\n",
       "Name: quality, dtype: int64"
      ]
     },
     "execution_count": 137,
     "metadata": {},
     "output_type": "execute_result"
    }
   ],
   "source": [
    "y.value_counts()"
   ]
  },
  {
   "cell_type": "code",
   "execution_count": 138,
   "id": "ac7d246b",
   "metadata": {},
   "outputs": [],
   "source": [
    "# Split the data up in train and test sets\n",
    "X_train, X_test, y_train, y_test = train_test_split(X, y, test_size=0.33, random_state=42)"
   ]
  },
  {
   "cell_type": "markdown",
   "id": "960380ba",
   "metadata": {},
   "source": [
    "### Standardize The Data"
   ]
  },
  {
   "cell_type": "code",
   "execution_count": 139,
   "id": "0f3bbd24",
   "metadata": {},
   "outputs": [],
   "source": [
    "# Define the scaler \n",
    "scaler = StandardScaler().fit(X_train)"
   ]
  },
  {
   "cell_type": "code",
   "execution_count": 140,
   "id": "eb09a738",
   "metadata": {},
   "outputs": [],
   "source": [
    "# Scale the train set\n",
    "X_train = scaler.transform(X_train)\n",
    "\n",
    "# Scale the test set\n",
    "X_test = scaler.transform(X_test)"
   ]
  },
  {
   "cell_type": "code",
   "execution_count": 141,
   "id": "de243b6c",
   "metadata": {},
   "outputs": [
    {
     "data": {
      "text/plain": [
       "array([[-7.51682345e-02, -1.33696832e+00,  8.58590678e-04, ...,\n",
       "         1.14171148e+00, -8.17593880e-01, -9.07381844e-01],\n",
       "       [-3.09279988e-01, -1.33696832e+00, -1.37533507e-01, ...,\n",
       "        -1.10015025e-01, -1.23015908e+00, -4.88519150e-01],\n",
       "       [ 3.93055272e-01,  2.71544591e-01,  5.54426980e-01, ...,\n",
       "        -2.35187675e-01, -1.43644168e+00,  2.02465702e+00],\n",
       "       ...,\n",
       "       [-6.21428992e-01,  2.09678710e-01, -8.29493994e-01, ...,\n",
       "         1.40330276e-01, -6.80072147e-01, -8.23609305e-01],\n",
       "       [-5.43391741e-01, -4.70845982e-01,  1.24638747e+00, ...,\n",
       "        -2.35187675e-01, -4.05028680e-01, -8.23609305e-01],\n",
       "       [ 2.86901658e-03,  1.75632574e+00, -1.79823868e+00, ...,\n",
       "         1.83016106e+00,  7.62973863e-02, -8.23609305e-01]])"
      ]
     },
     "execution_count": 141,
     "metadata": {},
     "output_type": "execute_result"
    }
   ],
   "source": [
    "X_train"
   ]
  },
  {
   "cell_type": "code",
   "execution_count": 170,
   "id": "35cb067d",
   "metadata": {},
   "outputs": [],
   "source": [
    "# define the keras model\n",
    "model = Sequential()\n",
    "model.add(Dense(128, activation='relu',input_shape=(11,)))\n",
    "model.add(Dense(8, activation='relu'))\n",
    "model.add(Dense(1, activation='sigmoid'))"
   ]
  },
  {
   "cell_type": "code",
   "execution_count": 171,
   "id": "57ac678b",
   "metadata": {},
   "outputs": [],
   "source": [
    "# # define the keras model\n",
    "# model = Sequential()\n",
    "# model.add(Dense(12, activation='relu', inout))\n",
    "# model.add(Dense(8, activation='relu'))\n",
    "# model.add(Dropout(0.25))\n",
    "# model.add(Dense(1, activation='sigmoid'))"
   ]
  },
  {
   "cell_type": "code",
   "execution_count": 172,
   "id": "f1b130a2",
   "metadata": {},
   "outputs": [
    {
     "name": "stdout",
     "output_type": "stream",
     "text": [
      "Model: \"sequential_16\"\n",
      "_________________________________________________________________\n",
      "Layer (type)                 Output Shape              Param #   \n",
      "=================================================================\n",
      "dense_40 (Dense)             (None, 128)               1536      \n",
      "_________________________________________________________________\n",
      "dense_41 (Dense)             (None, 8)                 1032      \n",
      "_________________________________________________________________\n",
      "dense_42 (Dense)             (None, 1)                 9         \n",
      "=================================================================\n",
      "Total params: 2,577\n",
      "Trainable params: 2,577\n",
      "Non-trainable params: 0\n",
      "_________________________________________________________________\n"
     ]
    },
    {
     "data": {
      "text/plain": [
       "[array([[-0.13113427,  0.07205139, -0.09235892, ...,  0.09913491,\n",
       "          0.05342169,  0.19077666],\n",
       "        [-0.04565819, -0.07764359, -0.08482001, ..., -0.04610498,\n",
       "          0.02173428, -0.13269462],\n",
       "        [-0.16109312,  0.1479538 ,  0.13263239, ...,  0.04454936,\n",
       "          0.02783619, -0.10368693],\n",
       "        ...,\n",
       "        [ 0.09374075,  0.01159203,  0.10259463, ..., -0.02585155,\n",
       "         -0.05436057, -0.15277103],\n",
       "        [ 0.07287945,  0.10932843, -0.07337505, ...,  0.01975076,\n",
       "          0.2017353 , -0.05916482],\n",
       "        [-0.03582478,  0.0351738 ,  0.17042623, ..., -0.02775303,\n",
       "         -0.06587794,  0.07442151]], dtype=float32),\n",
       " array([0., 0., 0., 0., 0., 0., 0., 0., 0., 0., 0., 0., 0., 0., 0., 0., 0.,\n",
       "        0., 0., 0., 0., 0., 0., 0., 0., 0., 0., 0., 0., 0., 0., 0., 0., 0.,\n",
       "        0., 0., 0., 0., 0., 0., 0., 0., 0., 0., 0., 0., 0., 0., 0., 0., 0.,\n",
       "        0., 0., 0., 0., 0., 0., 0., 0., 0., 0., 0., 0., 0., 0., 0., 0., 0.,\n",
       "        0., 0., 0., 0., 0., 0., 0., 0., 0., 0., 0., 0., 0., 0., 0., 0., 0.,\n",
       "        0., 0., 0., 0., 0., 0., 0., 0., 0., 0., 0., 0., 0., 0., 0., 0., 0.,\n",
       "        0., 0., 0., 0., 0., 0., 0., 0., 0., 0., 0., 0., 0., 0., 0., 0., 0.,\n",
       "        0., 0., 0., 0., 0., 0., 0., 0., 0.], dtype=float32),\n",
       " array([[-0.193959  , -0.06127484,  0.11492206, ...,  0.04914813,\n",
       "         -0.14113957,  0.15927131],\n",
       "        [ 0.20998763, -0.11125496,  0.01907323, ..., -0.06057931,\n",
       "         -0.20943718, -0.20404284],\n",
       "        [ 0.09721021, -0.09406501, -0.00267015, ...,  0.10455678,\n",
       "          0.05021484,  0.11372702],\n",
       "        ...,\n",
       "        [-0.06501496,  0.09505992, -0.12290689, ...,  0.17457412,\n",
       "          0.1061819 , -0.12197814],\n",
       "        [-0.20582084, -0.13724786,  0.06745972, ...,  0.14649905,\n",
       "         -0.06698959,  0.13306664],\n",
       "        [-0.12509279,  0.04284777, -0.01184854, ...,  0.19645764,\n",
       "          0.09292723,  0.00333288]], dtype=float32),\n",
       " array([0., 0., 0., 0., 0., 0., 0., 0.], dtype=float32),\n",
       " array([[ 0.6095029 ],\n",
       "        [ 0.6210153 ],\n",
       "        [-0.31254196],\n",
       "        [-0.5238622 ],\n",
       "        [ 0.23592222],\n",
       "        [-0.4588322 ],\n",
       "        [-0.43532953],\n",
       "        [ 0.2284602 ]], dtype=float32),\n",
       " array([0.], dtype=float32)]"
      ]
     },
     "execution_count": 172,
     "metadata": {},
     "output_type": "execute_result"
    }
   ],
   "source": [
    "# Model output shape\n",
    "model.output_shape\n",
    "\n",
    "# Model summary\n",
    "model.summary()\n",
    "\n",
    "# Model config\n",
    "model.get_config()\n",
    "\n",
    "# List all weight tensors \n",
    "model.get_weights()"
   ]
  },
  {
   "cell_type": "markdown",
   "id": "2c1ae49d",
   "metadata": {},
   "source": [
    "### Compile and Fit"
   ]
  },
  {
   "cell_type": "code",
   "execution_count": 173,
   "id": "f42a0367",
   "metadata": {},
   "outputs": [],
   "source": [
    "# compile the keras model\n",
    "model.compile(loss='binary_crossentropy', optimizer='adam', metrics=['accuracy'])"
   ]
  },
  {
   "cell_type": "code",
   "execution_count": 209,
   "id": "f9134c45",
   "metadata": {},
   "outputs": [
    {
     "name": "stdout",
     "output_type": "stream",
     "text": [
      "Epoch 1/100\n",
      "34/34 [==============================] - 0s 2ms/step - loss: 0.3446 - accuracy: 0.8396\n",
      "Epoch 2/100\n",
      "34/34 [==============================] - 0s 2ms/step - loss: 0.3427 - accuracy: 0.8405\n",
      "Epoch 3/100\n",
      "34/34 [==============================] - 0s 2ms/step - loss: 0.3420 - accuracy: 0.8405\n",
      "Epoch 4/100\n",
      "34/34 [==============================] - 0s 2ms/step - loss: 0.3394 - accuracy: 0.8408\n",
      "Epoch 5/100\n",
      "34/34 [==============================] - 0s 2ms/step - loss: 0.3380 - accuracy: 0.8419\n",
      "Epoch 6/100\n",
      "34/34 [==============================] - 0s 2ms/step - loss: 0.3367 - accuracy: 0.8451\n",
      "Epoch 7/100\n",
      "34/34 [==============================] - 0s 2ms/step - loss: 0.3358 - accuracy: 0.8465\n",
      "Epoch 8/100\n",
      "34/34 [==============================] - 0s 2ms/step - loss: 0.3348 - accuracy: 0.8447\n",
      "Epoch 9/100\n",
      "34/34 [==============================] - 0s 2ms/step - loss: 0.3315 - accuracy: 0.8479\n",
      "Epoch 10/100\n",
      "34/34 [==============================] - 0s 3ms/step - loss: 0.3311 - accuracy: 0.8451\n",
      "Epoch 11/100\n",
      "34/34 [==============================] - 0s 4ms/step - loss: 0.3298 - accuracy: 0.8502\n",
      "Epoch 12/100\n",
      "34/34 [==============================] - 0s 4ms/step - loss: 0.3283 - accuracy: 0.8483: 0s - loss: 0.3255 - accuracy: 0.\n",
      "Epoch 13/100\n",
      "34/34 [==============================] - 0s 3ms/step - loss: 0.3273 - accuracy: 0.8481\n",
      "Epoch 14/100\n",
      "34/34 [==============================] - 0s 2ms/step - loss: 0.3249 - accuracy: 0.8529\n",
      "Epoch 15/100\n",
      "34/34 [==============================] - 0s 2ms/step - loss: 0.3245 - accuracy: 0.8532\n",
      "Epoch 16/100\n",
      "34/34 [==============================] - 0s 2ms/step - loss: 0.3221 - accuracy: 0.8506\n",
      "Epoch 17/100\n",
      "34/34 [==============================] - 0s 3ms/step - loss: 0.3213 - accuracy: 0.8539\n",
      "Epoch 18/100\n",
      "34/34 [==============================] - 0s 2ms/step - loss: 0.3200 - accuracy: 0.8509\n",
      "Epoch 19/100\n",
      "34/34 [==============================] - 0s 3ms/step - loss: 0.3203 - accuracy: 0.8555: 0s - loss: 0.3353 - accuracy: 0.84\n",
      "Epoch 20/100\n",
      "34/34 [==============================] - 0s 2ms/step - loss: 0.3170 - accuracy: 0.8534\n",
      "Epoch 21/100\n",
      "34/34 [==============================] - 0s 2ms/step - loss: 0.3158 - accuracy: 0.8541\n",
      "Epoch 22/100\n",
      "34/34 [==============================] - 0s 2ms/step - loss: 0.3165 - accuracy: 0.8527\n",
      "Epoch 23/100\n",
      "34/34 [==============================] - 0s 3ms/step - loss: 0.3145 - accuracy: 0.8605\n",
      "Epoch 24/100\n",
      "34/34 [==============================] - 0s 2ms/step - loss: 0.3135 - accuracy: 0.8612\n",
      "Epoch 25/100\n",
      "34/34 [==============================] - 0s 3ms/step - loss: 0.3115 - accuracy: 0.8575\n",
      "Epoch 26/100\n",
      "34/34 [==============================] - 0s 2ms/step - loss: 0.3107 - accuracy: 0.8587\n",
      "Epoch 27/100\n",
      "34/34 [==============================] - 0s 2ms/step - loss: 0.3117 - accuracy: 0.8580\n",
      "Epoch 28/100\n",
      "34/34 [==============================] - 0s 2ms/step - loss: 0.3090 - accuracy: 0.8598\n",
      "Epoch 29/100\n",
      "34/34 [==============================] - 0s 2ms/step - loss: 0.3071 - accuracy: 0.8619\n",
      "Epoch 30/100\n",
      "34/34 [==============================] - 0s 3ms/step - loss: 0.3068 - accuracy: 0.8614\n",
      "Epoch 31/100\n",
      "34/34 [==============================] - 0s 2ms/step - loss: 0.3061 - accuracy: 0.8610\n",
      "Epoch 32/100\n",
      "34/34 [==============================] - 0s 3ms/step - loss: 0.3046 - accuracy: 0.8598\n",
      "Epoch 33/100\n",
      "34/34 [==============================] - 0s 4ms/step - loss: 0.3048 - accuracy: 0.8612\n",
      "Epoch 34/100\n",
      "34/34 [==============================] - 0s 3ms/step - loss: 0.3024 - accuracy: 0.8674\n",
      "Epoch 35/100\n",
      "34/34 [==============================] - 0s 3ms/step - loss: 0.3015 - accuracy: 0.8640\n",
      "Epoch 36/100\n",
      "34/34 [==============================] - 0s 3ms/step - loss: 0.3007 - accuracy: 0.8679\n",
      "Epoch 37/100\n",
      "34/34 [==============================] - 0s 3ms/step - loss: 0.3013 - accuracy: 0.8585: 0s - loss: 0.2984 - accuracy: 0.85\n",
      "Epoch 38/100\n",
      "34/34 [==============================] - 0s 4ms/step - loss: 0.3006 - accuracy: 0.8637\n",
      "Epoch 39/100\n",
      "34/34 [==============================] - 0s 2ms/step - loss: 0.3000 - accuracy: 0.8647\n",
      "Epoch 40/100\n",
      "34/34 [==============================] - 0s 1ms/step - loss: 0.2965 - accuracy: 0.8693\n",
      "Epoch 41/100\n",
      "34/34 [==============================] - 0s 2ms/step - loss: 0.2963 - accuracy: 0.8637\n",
      "Epoch 42/100\n",
      "34/34 [==============================] - 0s 1ms/step - loss: 0.2934 - accuracy: 0.8667\n",
      "Epoch 43/100\n",
      "34/34 [==============================] - 0s 2ms/step - loss: 0.2933 - accuracy: 0.8686\n",
      "Epoch 44/100\n",
      "34/34 [==============================] - 0s 1ms/step - loss: 0.2951 - accuracy: 0.8674\n",
      "Epoch 45/100\n",
      "34/34 [==============================] - 0s 1ms/step - loss: 0.2939 - accuracy: 0.8624\n",
      "Epoch 46/100\n",
      "34/34 [==============================] - 0s 1ms/step - loss: 0.2909 - accuracy: 0.8706\n",
      "Epoch 47/100\n",
      "34/34 [==============================] - 0s 1ms/step - loss: 0.2912 - accuracy: 0.8695\n",
      "Epoch 48/100\n",
      "34/34 [==============================] - 0s 1ms/step - loss: 0.2881 - accuracy: 0.8709\n",
      "Epoch 49/100\n",
      "34/34 [==============================] - 0s 1ms/step - loss: 0.2899 - accuracy: 0.8681\n",
      "Epoch 50/100\n",
      "34/34 [==============================] - 0s 2ms/step - loss: 0.2879 - accuracy: 0.8718\n",
      "Epoch 51/100\n",
      "34/34 [==============================] - 0s 2ms/step - loss: 0.2858 - accuracy: 0.8695\n",
      "Epoch 52/100\n",
      "34/34 [==============================] - 0s 3ms/step - loss: 0.2857 - accuracy: 0.8713\n",
      "Epoch 53/100\n",
      "34/34 [==============================] - 0s 4ms/step - loss: 0.2861 - accuracy: 0.8713\n",
      "Epoch 54/100\n",
      "34/34 [==============================] - 0s 2ms/step - loss: 0.2830 - accuracy: 0.8727\n",
      "Epoch 55/100\n",
      "34/34 [==============================] - 0s 2ms/step - loss: 0.2817 - accuracy: 0.8706\n",
      "Epoch 56/100\n",
      "34/34 [==============================] - 0s 4ms/step - loss: 0.2817 - accuracy: 0.8734\n",
      "Epoch 57/100\n",
      "34/34 [==============================] - 0s 3ms/step - loss: 0.2785 - accuracy: 0.8759\n",
      "Epoch 58/100\n",
      "34/34 [==============================] - 0s 1ms/step - loss: 0.2799 - accuracy: 0.8732\n",
      "Epoch 59/100\n",
      "34/34 [==============================] - 0s 1ms/step - loss: 0.2796 - accuracy: 0.8757\n",
      "Epoch 60/100\n",
      "34/34 [==============================] - 0s 1ms/step - loss: 0.2779 - accuracy: 0.8729\n",
      "Epoch 61/100\n",
      "34/34 [==============================] - 0s 1ms/step - loss: 0.2762 - accuracy: 0.8768\n",
      "Epoch 62/100\n",
      "34/34 [==============================] - 0s 2ms/step - loss: 0.2753 - accuracy: 0.8771\n",
      "Epoch 63/100\n",
      "34/34 [==============================] - 0s 2ms/step - loss: 0.2745 - accuracy: 0.8771\n",
      "Epoch 64/100\n",
      "34/34 [==============================] - 0s 1ms/step - loss: 0.2734 - accuracy: 0.8801\n",
      "Epoch 65/100\n",
      "34/34 [==============================] - 0s 1ms/step - loss: 0.2734 - accuracy: 0.8759\n",
      "Epoch 66/100\n",
      "34/34 [==============================] - 0s 1ms/step - loss: 0.2724 - accuracy: 0.8759\n",
      "Epoch 67/100\n",
      "34/34 [==============================] - 0s 2ms/step - loss: 0.2706 - accuracy: 0.8778\n",
      "Epoch 68/100\n",
      "34/34 [==============================] - 0s 2ms/step - loss: 0.2705 - accuracy: 0.8780\n",
      "Epoch 69/100\n",
      "34/34 [==============================] - 0s 1ms/step - loss: 0.2707 - accuracy: 0.8801\n",
      "Epoch 70/100\n",
      "34/34 [==============================] - 0s 2ms/step - loss: 0.2684 - accuracy: 0.8789\n",
      "Epoch 71/100\n",
      "34/34 [==============================] - 0s 1ms/step - loss: 0.2670 - accuracy: 0.8824\n",
      "Epoch 72/100\n",
      "34/34 [==============================] - 0s 2ms/step - loss: 0.2670 - accuracy: 0.8814\n",
      "Epoch 73/100\n",
      "34/34 [==============================] - 0s 4ms/step - loss: 0.2644 - accuracy: 0.8796\n",
      "Epoch 74/100\n",
      "34/34 [==============================] - 0s 3ms/step - loss: 0.2643 - accuracy: 0.8821\n",
      "Epoch 75/100\n",
      "34/34 [==============================] - 0s 3ms/step - loss: 0.2645 - accuracy: 0.8814\n",
      "Epoch 76/100\n",
      "34/34 [==============================] - 0s 2ms/step - loss: 0.2625 - accuracy: 0.8851\n",
      "Epoch 77/100\n",
      "34/34 [==============================] - 0s 2ms/step - loss: 0.2623 - accuracy: 0.8858\n",
      "Epoch 78/100\n",
      "34/34 [==============================] - 0s 2ms/step - loss: 0.2644 - accuracy: 0.8833\n",
      "Epoch 79/100\n",
      "34/34 [==============================] - 0s 2ms/step - loss: 0.2610 - accuracy: 0.8821\n",
      "Epoch 80/100\n",
      "34/34 [==============================] - 0s 2ms/step - loss: 0.2584 - accuracy: 0.8847\n",
      "Epoch 81/100\n",
      "34/34 [==============================] - 0s 2ms/step - loss: 0.2578 - accuracy: 0.8856\n"
     ]
    },
    {
     "name": "stdout",
     "output_type": "stream",
     "text": [
      "Epoch 82/100\n",
      "34/34 [==============================] - 0s 3ms/step - loss: 0.2584 - accuracy: 0.8835\n",
      "Epoch 83/100\n",
      "34/34 [==============================] - 0s 2ms/step - loss: 0.2603 - accuracy: 0.8805\n",
      "Epoch 84/100\n",
      "34/34 [==============================] - 0s 2ms/step - loss: 0.2556 - accuracy: 0.8847\n",
      "Epoch 85/100\n",
      "34/34 [==============================] - 0s 2ms/step - loss: 0.2542 - accuracy: 0.8858\n",
      "Epoch 86/100\n",
      "34/34 [==============================] - 0s 2ms/step - loss: 0.2559 - accuracy: 0.8828\n",
      "Epoch 87/100\n",
      "34/34 [==============================] - 0s 2ms/step - loss: 0.2558 - accuracy: 0.8828\n",
      "Epoch 88/100\n",
      "34/34 [==============================] - 0s 2ms/step - loss: 0.2530 - accuracy: 0.8869\n",
      "Epoch 89/100\n",
      "34/34 [==============================] - 0s 2ms/step - loss: 0.2537 - accuracy: 0.8890\n",
      "Epoch 90/100\n",
      "34/34 [==============================] - 0s 2ms/step - loss: 0.2507 - accuracy: 0.8860\n",
      "Epoch 91/100\n",
      "34/34 [==============================] - 0s 2ms/step - loss: 0.2482 - accuracy: 0.8897\n",
      "Epoch 92/100\n",
      "34/34 [==============================] - 0s 2ms/step - loss: 0.2502 - accuracy: 0.8874\n",
      "Epoch 93/100\n",
      "34/34 [==============================] - 0s 2ms/step - loss: 0.2495 - accuracy: 0.8892\n",
      "Epoch 94/100\n",
      "34/34 [==============================] - 0s 2ms/step - loss: 0.2522 - accuracy: 0.8867\n",
      "Epoch 95/100\n",
      "34/34 [==============================] - 0s 2ms/step - loss: 0.2464 - accuracy: 0.8913\n",
      "Epoch 96/100\n",
      "34/34 [==============================] - 0s 2ms/step - loss: 0.2482 - accuracy: 0.8872\n",
      "Epoch 97/100\n",
      "34/34 [==============================] - 0s 2ms/step - loss: 0.2456 - accuracy: 0.8915\n",
      "Epoch 98/100\n",
      "34/34 [==============================] - 0s 2ms/step - loss: 0.2487 - accuracy: 0.8863\n",
      "Epoch 99/100\n",
      "34/34 [==============================] - 0s 2ms/step - loss: 0.2457 - accuracy: 0.8906\n",
      "Epoch 100/100\n",
      "34/34 [==============================] - 0s 2ms/step - loss: 0.2428 - accuracy: 0.8899\n"
     ]
    },
    {
     "data": {
      "text/plain": [
       "<tensorflow.python.keras.callbacks.History at 0x2656bb33e20>"
      ]
     },
     "execution_count": 209,
     "metadata": {},
     "output_type": "execute_result"
    }
   ],
   "source": [
    "# fit the keras model on the dataset\n",
    "model.fit(X_train, y_train,epochs=100, batch_size=128, verbose=1)\n"
   ]
  },
  {
   "cell_type": "markdown",
   "id": "65d63cb7",
   "metadata": {},
   "source": [
    "### Predict Values"
   ]
  },
  {
   "cell_type": "code",
   "execution_count": 175,
   "id": "6d64b332",
   "metadata": {},
   "outputs": [],
   "source": [
    "y_pred = model.predict(X_test)"
   ]
  },
  {
   "cell_type": "code",
   "execution_count": 188,
   "id": "72a70800",
   "metadata": {},
   "outputs": [
    {
     "name": "stdout",
     "output_type": "stream",
     "text": [
      "[[0.3708313 ]\n",
      " [0.00343263]\n",
      " [0.717017  ]\n",
      " [0.05689576]\n",
      " [0.02238867]]\n",
      "[[0.]\n",
      " [0.]\n",
      " [1.]\n",
      " [0.]\n",
      " [0.]]\n"
     ]
    }
   ],
   "source": [
    "print(y_pred[:5])\n",
    "\n",
    "print(y_pred[:5].round())"
   ]
  },
  {
   "cell_type": "code",
   "execution_count": 177,
   "id": "e59ea450",
   "metadata": {},
   "outputs": [
    {
     "data": {
      "text/plain": [
       "3103    1\n",
       "1419    0\n",
       "4761    1\n",
       "4690    0\n",
       "4032    0\n",
       "Name: quality, dtype: int64"
      ]
     },
     "execution_count": 177,
     "metadata": {},
     "output_type": "execute_result"
    }
   ],
   "source": [
    "y_test[:5]"
   ]
  },
  {
   "cell_type": "markdown",
   "id": "21001a43",
   "metadata": {},
   "source": [
    "### Evaluate Model"
   ]
  },
  {
   "cell_type": "code",
   "execution_count": 178,
   "id": "0e81d072",
   "metadata": {},
   "outputs": [
    {
     "name": "stdout",
     "output_type": "stream",
     "text": [
      "68/68 [==============================] - 0s 2ms/step - loss: 0.3475 - accuracy: 0.8359\n",
      "[0.34754475951194763, 0.8358974456787109]\n"
     ]
    }
   ],
   "source": [
    "score = model.evaluate(X_test, y_test,verbose=1)\n",
    "\n",
    "print(score)"
   ]
  },
  {
   "cell_type": "code",
   "execution_count": 196,
   "id": "f195a223",
   "metadata": {
    "scrolled": true
   },
   "outputs": [
    {
     "name": "stdout",
     "output_type": "stream",
     "text": [
      "tf.Tensor(\n",
      "[[1735    0]\n",
      " [ 410    0]], shape=(2, 2), dtype=int32)\n"
     ]
    }
   ],
   "source": [
    "# Confusion matrix use tensorflow because the normal confusion matrix doesnt accept both binary and non binary inputs \n",
    "tf.math.confusion_matrix(y_test, y_pred.round())\n",
    "# View confusion matrix for test data and predictions and slice into four pieces\n",
    "confusion = tf.math.confusion_matrix(y_test, y_pred)\n",
    "print(confusion)\n",
    "#[row, column]\n",
    "TP = confusion[1, 1]\n",
    "TN = confusion[0, 0]\n",
    "FP = confusion[0, 1]\n",
    "FN = confusion[1, 0]"
   ]
  },
  {
   "cell_type": "code",
   "execution_count": 197,
   "id": "2480449e",
   "metadata": {},
   "outputs": [],
   "source": [
    "#tf.keras.metrics.Precision(y_test, y_pred)"
   ]
  },
  {
   "cell_type": "code",
   "execution_count": 215,
   "id": "fc48b9a4",
   "metadata": {},
   "outputs": [
    {
     "data": {
      "image/png": "[encoded data removed]",
      "text/plain": [
       "<Figure size 1152x504 with 2 Axes>"
      ]
     },
     "metadata": {
      "needs_background": "light"
     },
     "output_type": "display_data"
    }
   ],
   "source": [
    "# Get and reshape confusion matrix data\n",
    "matrix = confusion_matrix(y_test, y_pred.round())\n",
    "matrix = matrix.astype('float') / matrix.sum(axis=1)[:, np.newaxis]\n",
    "\n",
    "# Build the plot\n",
    "plt.figure(figsize=(16,7))\n",
    "sns.set(font_scale=1.4)\n",
    "sns.heatmap(matrix, annot=True, annot_kws={'size':10},\n",
    "            cmap=plt.cm.Greens, linewidths=0.2)\n",
    "\n",
    "# Add labels to the plot\n",
    "class_names = ['good', 'bad']\n",
    "tick_marks = np.arange(len(class_names))\n",
    "tick_marks2 = tick_marks + 0.5\n",
    "plt.xticks(tick_marks, class_names, rotation=0)\n",
    "plt.yticks(tick_marks2, class_names, rotation=0)\n",
    "plt.xlabel('Predicted label')\n",
    "plt.ylabel('True label')\n",
    "plt.title('Confusion Matrix ')\n",
    "plt.show()"
   ]
  },
  {
   "cell_type": "code",
   "execution_count": 208,
   "id": "34ef5cfa",
   "metadata": {},
   "outputs": [
    {
     "name": "stdout",
     "output_type": "stream",
     "text": [
      "              precision    recall  f1-score   support\n",
      "\n",
      "           0       0.87      0.94      0.90      1735\n",
      "           1       0.60      0.41      0.49       410\n",
      "\n",
      "    accuracy                           0.84      2145\n",
      "   macro avg       0.74      0.68      0.70      2145\n",
      "weighted avg       0.82      0.84      0.82      2145\n",
      "\n"
     ]
    }
   ],
   "source": [
    "# View the classification report for test data and predictions\n",
    "print(classification_report(y_test, y_pred.round()))\n",
    "#tf.keras.wrappers.scikit_learn.KerasClassifier(y_test, y_pred.round())"
   ]
  },
  {
   "cell_type": "code",
   "execution_count": null,
   "id": "b70dc4cf",
   "metadata": {},
   "outputs": [],
   "source": []
  },
  {
   "cell_type": "code",
   "execution_count": null,
   "id": "dbeb67d1",
   "metadata": {},
   "outputs": [],
   "source": []
  },
  {
   "cell_type": "code",
   "execution_count": null,
   "id": "6e93e1ae",
   "metadata": {},
   "outputs": [],
   "source": []
  }
 ],
 "metadata": {
  "kernelspec": {
   "display_name": "tf",
   "language": "python",
   "name": "tf"
  },
  "language_info": {
   "codemirror_mode": {
    "name": "ipython",
    "version": 3
   },
   "file_extension": ".py",
   "mimetype": "text/x-python",
   "name": "python",
   "nbconvert_exporter": "python",
   "pygments_lexer": "ipython3",
   "version": "3.8.11"
  }
 },
 "nbformat": 4,
 "nbformat_minor": 5
}
